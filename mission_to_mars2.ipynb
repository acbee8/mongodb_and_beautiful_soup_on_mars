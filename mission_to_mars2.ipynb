{
 "cells": [
  {
   "cell_type": "markdown",
   "metadata": {},
   "source": [
    "# NASA Mars News\n",
    "\n",
    "Scrape the NASA Mars News Site and collect the latest News Title and Paragraph Text. Assign the text to variables."
   ]
  },
  {
   "cell_type": "code",
   "execution_count": 39,
   "metadata": {},
   "outputs": [],
   "source": [
    "#Import all dependencies\n",
    "import pandas as pd\n",
    "import requests\n",
    "from splinter import Browser\n",
    "import os\n",
    "from bs4 import BeautifulSoup as soup\n",
    "import pymongo"
   ]
  },
  {
   "cell_type": "code",
   "execution_count": 40,
   "metadata": {},
   "outputs": [],
   "source": [
    "#Establish localhost \n",
    "connection = 'mongodb://localhost:27017'\n",
    "\n",
    "#Connect Mongo to client via connection\n",
    "client = pymongo.MongoClient(connection)"
   ]
  },
  {
   "cell_type": "code",
   "execution_count": 41,
   "metadata": {},
   "outputs": [],
   "source": [
    "#Create the database\n",
    "db = client.mars_news_db\n",
    "\n",
    "#Create the collection of database items\n",
    "collection = db.items"
   ]
  },
  {
   "cell_type": "code",
   "execution_count": 42,
   "metadata": {},
   "outputs": [],
   "source": [
    "#Associate url to variable for easy of calling\n",
    "nasa_url = 'https://mars.nasa.gov/news/?page=0&per_page=40&order=publish_date+desc%2Ccreated_at+desc&search=&category=19%2C165%2C184%2C204&blank_scope=Latest'\n",
    "\n",
    "#Get the results from the request, store in response variable\n",
    "nasa_response = requests.get(nasa_url)"
   ]
  },
  {
   "cell_type": "code",
   "execution_count": 43,
   "metadata": {},
   "outputs": [],
   "source": [
    "#Create lxml text object \n",
    "nasa_object = soup(nasa_response.text, 'lxml')\n",
    "\n",
    "#Store found 'divs' from body in result variable\n",
    "nasa_result = nasa_object.body.find('div', class_ =\"slide\")\n",
    "\n",
    "# print(nasa_result)"
   ]
  },
  {
   "cell_type": "code",
   "execution_count": 44,
   "metadata": {},
   "outputs": [],
   "source": [
    "#Loop thru result to find title, header and timestamp\n",
    "article_title = nasa_result.find('div',class_='content_title').text\n",
    "article_header = nasa_result.find('div',class_='rollover_description_inner').text\n",
    "\n",
    "# print(article_title)\n",
    "# print(article_header)"
   ]
  },
  {
   "cell_type": "markdown",
   "metadata": {},
   "source": [
    "# JPL Mars Space Images\n",
    "\n",
    "Use splinter to navigate the site and find the image url for the current Featured Mars Image and assign the url string to a variable called featured_image_url."
   ]
  },
  {
   "cell_type": "code",
   "execution_count": 45,
   "metadata": {},
   "outputs": [],
   "source": [
    "#Use splinter to navigate to the site:\n",
    "# 1 -- establish path\n",
    "executable_path = {'executable_path': '/Users/fullguest/Downloads/chromedriver'}\n",
    "#(establish browser)\n",
    "browser = Browser('chrome', **executable_path, headless=False)\n",
    "\n",
    "#2 -- establish url\n",
    "jpl_url = 'https://www.jpl.nasa.gov/spaceimages/?search=&category=Mars'\n",
    "\n",
    "#3 -- feed the browser the url and command to visit\n",
    "browser.visit(jpl_url)\n",
    "\n",
    "#4 -- get html data\n",
    "jpl_html = browser.html\n",
    "\n",
    "#5 -- convert using lxml in soup\n",
    "jpl_soup = BeautifulSoup(jpl_html, 'lxml')"
   ]
  },
  {
   "cell_type": "code",
   "execution_count": 46,
   "metadata": {},
   "outputs": [],
   "source": [
    "# Find featured image in div class img \n",
    "featured_img = jpl_soup.body.find('div', class_=\"image_and_description_container\").find('div', class_=\"img\")\n",
    "\n",
    "#Extract the footer url of the feature image\n",
    "img_url_footer = featured_img.img['src']"
   ]
  },
  {
   "cell_type": "code",
   "execution_count": 47,
   "metadata": {},
   "outputs": [],
   "source": [
    "#Base url to add footer to\n",
    "jpl_base_url = 'https://www.jpl.nasa.gov'\n",
    "\n",
    "#Create full url with base + footer\n",
    "featured_image_url = jpl_base_url + img_url_footer\n",
    "# print(featured_image_url)"
   ]
  },
  {
   "cell_type": "markdown",
   "metadata": {},
   "source": [
    "# Mars Weather\n",
    "\n",
    "Scrape the latest Mars weather tweet from the page."
   ]
  },
  {
   "cell_type": "code",
   "execution_count": 48,
   "metadata": {},
   "outputs": [
    {
     "name": "stdout",
     "output_type": "stream",
     "text": [
      "[<div class=\"js-tweet-text-container\">\n",
      "<p class=\"TweetTextSize TweetTextSize--normal js-tweet-text tweet-text\" data-aria-label-part=\"0\" lang=\"en\">And finally - a stack of all the images - you can see so much detail here <a class=\"twitter-timeline-link\" data-expanded-url=\"https://dougellison.smugmug.com/Machines/Space-X-SAOCOM-1A/i-zbJzq8L\" dir=\"ltr\" href=\"https://t.co/r6pHbPsqq5\" rel=\"nofollow noopener\" target=\"_blank\" title=\"https://dougellison.smugmug.com/Machines/Space-X-SAOCOM-1A/i-zbJzq8L\"><span class=\"tco-ellipsis\"></span><span class=\"invisible\">https://</span><span class=\"js-display-url\">dougellison.smugmug.com/Machines/Space</span><span class=\"invisible\">-X-SAOCOM-1A/i-zbJzq8L</span><span class=\"tco-ellipsis\"><span class=\"invisible\"> </span>…</span></a><a class=\"twitter-timeline-link u-hidden\" data-pre-embedded=\"true\" dir=\"ltr\" href=\"https://t.co/9nLwAH3oZQ\">pic.twitter.com/9nLwAH3oZQ</a></p>\n",
      "</div>, <div class=\"js-tweet-text-container\">\n",
      "<p class=\"TweetTextSize TweetTextSize--normal js-tweet-text tweet-text\" data-aria-label-part=\"0\" lang=\"en\">We detected atomic oxygen in the Martian atmosphere for the first time since the Viking and Mariner missions of the 1970s. But our instruments detected less than expected, which may be due to variations in the Red Planet's atmosphere. Details: <a class=\"twitter-timeline-link\" data-expanded-url=\"https://go.nasa.gov/2Pav6mN\" dir=\"ltr\" href=\"https://t.co/JK8dYmHYgo\" rel=\"nofollow noopener\" target=\"_blank\" title=\"https://go.nasa.gov/2Pav6mN\"><span class=\"tco-ellipsis\"></span><span class=\"invisible\">https://</span><span class=\"js-display-url\">go.nasa.gov/2Pav6mN</span><span class=\"invisible\"></span><span class=\"tco-ellipsis\"><span class=\"invisible\"> </span></span></a><a class=\"twitter-timeline-link u-hidden\" data-pre-embedded=\"true\" dir=\"ltr\" href=\"https://t.co/UY3z6TnrlH\">pic.twitter.com/UY3z6TnrlH</a></p>\n",
      "</div>, <div class=\"js-tweet-text-container\">\n",
      "<p class=\"TweetTextSize TweetTextSize--normal js-tweet-text tweet-text\" data-aria-label-part=\"0\" lang=\"en\">NASA opened for business on this day in 1958. Replacing the previous agency National Advisory Committee for Aeronautics (NACA)<a class=\"twitter-timeline-link u-hidden\" data-pre-embedded=\"true\" dir=\"ltr\" href=\"https://t.co/NSoxyxpkyh\">pic.twitter.com/NSoxyxpkyh</a></p>\n",
      "</div>, <div class=\"js-tweet-text-container\">\n",
      "<p class=\"TweetTextSize TweetTextSize--normal js-tweet-text tweet-text\" data-aria-label-part=\"0\" lang=\"en\">I’m 60 days from landing on <a class=\"twitter-hashtag pretty-link js-nav\" data-query-source=\"hashtag_click\" dir=\"ltr\" href=\"/hashtag/Mars?src=hash\"><s>#</s><b>Mars</b></a>! To ensure my successful Entry, Descent and Landing (EDL), my team begins intensive preparations during the “approach” phase. This happens to be the phase I’m entering right now <img alt=\"🚀\" aria-label=\"Emoji: Rocket\" class=\"Emoji Emoji--forText\" draggable=\"false\" src=\"https://abs.twimg.com/emoji/v2/72x72/1f680.png\" title=\"Rocket\"/> More: <a class=\"twitter-timeline-link\" data-expanded-url=\"http://go.nasa.gov/2DEAjOl\" dir=\"ltr\" href=\"https://t.co/VN0RnUQxZo\" rel=\"nofollow noopener\" target=\"_blank\" title=\"http://go.nasa.gov/2DEAjOl\"><span class=\"tco-ellipsis\"></span><span class=\"invisible\">http://</span><span class=\"js-display-url\">go.nasa.gov/2DEAjOl</span><span class=\"invisible\"></span><span class=\"tco-ellipsis\"><span class=\"invisible\"> </span></span></a><a class=\"twitter-timeline-link u-hidden\" data-pre-embedded=\"true\" dir=\"ltr\" href=\"https://t.co/8hrnNiriGi\">pic.twitter.com/8hrnNiriGi</a></p>\n",
      "</div>, <div class=\"js-tweet-text-container\">\n",
      "<p class=\"TweetTextSize TweetTextSize--normal js-tweet-text tweet-text\" data-aria-label-part=\"0\" lang=\"en\">How did we know the recent Mars dust storm went global? The confirmation came from an unlikely place. Following the first orbital observations of it, evidence quietly materialized on the other side of the globe from a small motor on <a class=\"twitter-atreply pretty-link js-nav\" data-mentioned-user-id=\"15473958\" dir=\"ltr\" href=\"/MarsCuriosity\"><s>@</s><b>MarsCuriosity</b></a>: <a class=\"twitter-timeline-link\" data-expanded-url=\"https://go.nasa.gov/2DwWE4L\" dir=\"ltr\" href=\"https://t.co/RnPhcQ3ctT\" rel=\"nofollow noopener\" target=\"_blank\" title=\"https://go.nasa.gov/2DwWE4L\"><span class=\"tco-ellipsis\"></span><span class=\"invisible\">https://</span><span class=\"js-display-url\">go.nasa.gov/2DwWE4L</span><span class=\"invisible\"></span><span class=\"tco-ellipsis\"><span class=\"invisible\"> </span></span></a><a class=\"twitter-timeline-link u-hidden\" data-pre-embedded=\"true\" dir=\"ltr\" href=\"https://t.co/pJruiAvveb\">pic.twitter.com/pJruiAvveb</a></p>\n",
      "</div>, <div class=\"js-tweet-text-container\">\n",
      "<p class=\"TweetTextSize TweetTextSize--normal js-tweet-text tweet-text\" data-aria-label-part=\"0\" lang=\"en\">That dusty dot on the slopes of the Mars’ Perseverance Valley is the Opportunity rover, as seen by MRO’s HiRISE camera.  We last heard from Oppy over 100 days ago. <a class=\"twitter-timeline-link\" data-expanded-url=\"https://www.nasa.gov/feature/jpl/opportunity-emerges-in-a-dusty-picture\" dir=\"ltr\" href=\"https://t.co/fQW0mJwP5E\" rel=\"nofollow noopener\" target=\"_blank\" title=\"https://www.nasa.gov/feature/jpl/opportunity-emerges-in-a-dusty-picture\"><span class=\"tco-ellipsis\"></span><span class=\"invisible\">https://www.</span><span class=\"js-display-url\">nasa.gov/feature/jpl/op</span><span class=\"invisible\">portunity-emerges-in-a-dusty-picture</span><span class=\"tco-ellipsis\"><span class=\"invisible\"> </span>…</span></a><a class=\"twitter-timeline-link u-hidden\" data-pre-embedded=\"true\" dir=\"ltr\" href=\"https://t.co/x9WxH6hIhB\">pic.twitter.com/x9WxH6hIhB</a></p>\n",
      "</div>, <div class=\"js-tweet-text-container\">\n",
      "<p class=\"TweetTextSize TweetTextSize--normal js-tweet-text tweet-text\" data-aria-label-part=\"0\" lang=\"en\">Jose Morales captured Mars from Chicago last night. 15000 frames for this Mars tonight.  The South Pole, Syrtis Major Planum, and Hellas Planitia are visible.<a class=\"twitter-timeline-link u-hidden\" data-pre-embedded=\"true\" dir=\"ltr\" href=\"https://t.co/cFkgmdoHDV\">pic.twitter.com/cFkgmdoHDV</a></p>\n",
      "</div>, <div class=\"js-tweet-text-container\">\n",
      "<p class=\"TweetTextSize TweetTextSize--normal js-tweet-text tweet-text\" data-aria-label-part=\"0\" lang=\"en\">Astronomical autumn begins with the September equinox at 9:54 ET tonight <a class=\"twitter-timeline-link\" data-expanded-url=\"https://www.wral.com/autumn-s-arrival-celebrated-differently-at-different-times-around-the-world/17864537/\" dir=\"ltr\" href=\"https://t.co/TSojzbK6Dn\" rel=\"nofollow noopener\" target=\"_blank\" title=\"https://www.wral.com/autumn-s-arrival-celebrated-differently-at-different-times-around-the-world/17864537/\"><span class=\"tco-ellipsis\"></span><span class=\"invisible\">https://www.</span><span class=\"js-display-url\">wral.com/autumn-s-arriv</span><span class=\"invisible\">al-celebrated-differently-at-different-times-around-the-world/17864537/</span><span class=\"tco-ellipsis\"><span class=\"invisible\"> </span>…</span></a><a class=\"twitter-timeline-link u-hidden\" data-pre-embedded=\"true\" dir=\"ltr\" href=\"https://t.co/cUArBS7WFV\">pic.twitter.com/cUArBS7WFV</a></p>\n",
      "</div>, <div class=\"js-tweet-text-container\">\n",
      "<p class=\"TweetTextSize TweetTextSize--normal js-tweet-text tweet-text\" data-aria-label-part=\"0\" lang=\"en\">Sol 2171 (2018-09-14), high -12C/10F, low -65C/-84F, pressure at 8.79 hPa, daylight 05:43-17:59</p>\n",
      "</div>, <div class=\"js-tweet-text-container\">\n",
      "<p class=\"TweetTextSize TweetTextSize--normal js-tweet-text tweet-text\" data-aria-label-part=\"0\" lang=\"en\">Sol 2170 (2018-09-13), high -12C/10F, low -68C/-90F, pressure at 8.86 hPa, daylight 05:42-17:59</p>\n",
      "</div>]\n"
     ]
    }
   ],
   "source": [
    "#Twitter base url\n",
    "twitter_url = 'https://twitter.com/marswxreport?lang=en'\n",
    "\n",
    "#Get the twitter text\n",
    "twitter_response = requests.get(twitter_url)\n",
    "\n",
    "#Convert into lxml\n",
    "twitter_soup = BeautifulSoup(twitter_response.text, 'lxml')\n",
    "\n",
    "# Get the first 10 tweet results\n",
    "twitter_results = twitter_soup.body.find_all('div',class_='js-tweet-text-container')[0:10]\n",
    "\n",
    "print(twitter_results)"
   ]
  },
  {
   "cell_type": "code",
   "execution_count": 49,
   "metadata": {},
   "outputs": [
    {
     "name": "stdout",
     "output_type": "stream",
     "text": [
      "Sol 2171 (2018-09-14), high -12C/10F, low -65C/-84F, pressure at 8.79 hPa, daylight 05:43-17:59\n"
     ]
    }
   ],
   "source": [
    "# Use for loop to avoid gathering any data that is not weather data\n",
    "for result in twitter_results:\n",
    "    tweet_text = result.find('p', class_='js-tweet-text').text\n",
    "    if tweet_text.startswith(\"Sol\"):\n",
    "        mars_weather = tweet_text\n",
    "        break \n",
    "print(mars_weather)"
   ]
  },
  {
   "cell_type": "markdown",
   "metadata": {},
   "source": [
    "# Mars Facts\n",
    "Use Pandas to scrape the table containing facts about the planet including Diameter, Mass, etc."
   ]
  },
  {
   "cell_type": "code",
   "execution_count": 50,
   "metadata": {},
   "outputs": [
    {
     "data": {
      "text/html": [
       "<div>\n",
       "<style scoped>\n",
       "    .dataframe tbody tr th:only-of-type {\n",
       "        vertical-align: middle;\n",
       "    }\n",
       "\n",
       "    .dataframe tbody tr th {\n",
       "        vertical-align: top;\n",
       "    }\n",
       "\n",
       "    .dataframe thead th {\n",
       "        text-align: right;\n",
       "    }\n",
       "</style>\n",
       "<table border=\"1\" class=\"dataframe\">\n",
       "  <thead>\n",
       "    <tr style=\"text-align: right;\">\n",
       "      <th></th>\n",
       "      <th>Value</th>\n",
       "    </tr>\n",
       "    <tr>\n",
       "      <th>Description</th>\n",
       "      <th></th>\n",
       "    </tr>\n",
       "  </thead>\n",
       "  <tbody>\n",
       "    <tr>\n",
       "      <th>Equatorial Diameter:</th>\n",
       "      <td>6,792 km</td>\n",
       "    </tr>\n",
       "    <tr>\n",
       "      <th>Polar Diameter:</th>\n",
       "      <td>6,752 km</td>\n",
       "    </tr>\n",
       "    <tr>\n",
       "      <th>Mass:</th>\n",
       "      <td>6.42 x 10^23 kg (10.7% Earth)</td>\n",
       "    </tr>\n",
       "    <tr>\n",
       "      <th>Moons:</th>\n",
       "      <td>2 (Phobos &amp; Deimos)</td>\n",
       "    </tr>\n",
       "    <tr>\n",
       "      <th>Orbit Distance:</th>\n",
       "      <td>227,943,824 km (1.52 AU)</td>\n",
       "    </tr>\n",
       "    <tr>\n",
       "      <th>Orbit Period:</th>\n",
       "      <td>687 days (1.9 years)</td>\n",
       "    </tr>\n",
       "    <tr>\n",
       "      <th>Surface Temperature:</th>\n",
       "      <td>-153 to 20 °C</td>\n",
       "    </tr>\n",
       "    <tr>\n",
       "      <th>First Record:</th>\n",
       "      <td>2nd millennium BC</td>\n",
       "    </tr>\n",
       "    <tr>\n",
       "      <th>Recorded By:</th>\n",
       "      <td>Egyptian astronomers</td>\n",
       "    </tr>\n",
       "  </tbody>\n",
       "</table>\n",
       "</div>"
      ],
      "text/plain": [
       "                                              Value\n",
       "Description                                        \n",
       "Equatorial Diameter:                       6,792 km\n",
       "Polar Diameter:                            6,752 km\n",
       "Mass:                 6.42 x 10^23 kg (10.7% Earth)\n",
       "Moons:                          2 (Phobos & Deimos)\n",
       "Orbit Distance:            227,943,824 km (1.52 AU)\n",
       "Orbit Period:                  687 days (1.9 years)\n",
       "Surface Temperature:                  -153 to 20 °C\n",
       "First Record:                     2nd millennium BC\n",
       "Recorded By:                   Egyptian astronomers"
      ]
     },
     "execution_count": 50,
     "metadata": {},
     "output_type": "execute_result"
    }
   ],
   "source": [
    "#Establish base url\n",
    "mars_fact_url = 'https://space-facts.com/mars/'\n",
    "\n",
    "#Use Pandas to read the html first table\n",
    "mars_tables = pd.read_html(mars_fact_url)[0]\n",
    "#Get the data from descrip and values columns\n",
    "mars_tables.columns = ['Description','Value']\n",
    "#Add/Change the index inplace \n",
    "mars_tables.set_index('Description', inplace=True)\n",
    "#Save the newly indexed tables\n",
    "mars_tables"
   ]
  },
  {
   "cell_type": "code",
   "execution_count": 51,
   "metadata": {},
   "outputs": [],
   "source": [
    "#Convert new tables to html\n",
    "html_table = mars_tables.to_html()\n",
    "#Replace any '\\n' with nothing\n",
    "html_table = html_table.replace('\\n', '')\n",
    "\n",
    "#Save the table into the html file\n",
    "with open(\"mars_fact.html\",\"w\") as file:\n",
    "    file.write(html_table)"
   ]
  },
  {
   "cell_type": "markdown",
   "metadata": {},
   "source": [
    "# Mars Hemispheres\n",
    "1. Obtain high resolution images for each of Mar's hemispheres from USGS Astrogeology site.\n",
    "2. Click each of the links to the hemispheres in order to find the image url to the full resolution image.\n",
    "3. Save both the image url string for the full resolution hemisphere image, and the Hemisphere title containing the hemisphere name. Use a Python dictionary to store the data using the keys img_url and title.\n",
    "4. Append the dictionary with the image url string and the hemisphere title to a list using one dictionary for each hemisphere."
   ]
  },
  {
   "cell_type": "code",
   "execution_count": 52,
   "metadata": {},
   "outputs": [],
   "source": [
    "#Establish url\n",
    "usgs_url = 'https://astrogeology.usgs.gov/search/results?q=hemisphere+enhanced&k1=target&v1=Mars'\n",
    "\n",
    "#Visit url via the chrome browser\n",
    "browser.visit(usgs_url)\n",
    "\n",
    "#Establish USGS html\n",
    "usgs_html = browser.html\n",
    "\n",
    "#Soup with 'lxml'\n",
    "usgs_soup = BeautifulSoup(usgs_html, 'lxml')\n",
    "\n",
    "#Assign variable for USGS base url\n",
    "usgs_base_url = 'https://astrogeology.usgs.gov'\n"
   ]
  },
  {
   "cell_type": "code",
   "execution_count": 53,
   "metadata": {},
   "outputs": [],
   "source": [
    "#Find all USGS 'items' in the 'body' 'divs'\n",
    "usgs_items = usgs_soup.body.find_all('div',class_='item')\n",
    "\n",
    "#Create list to store results\n",
    "item_links = []\n",
    "\n",
    "# USGS item-link function to return the href for each image formatted as a string to add to list of image urls\n",
    "def GetDownloadLink(url):\n",
    "    browser.visit(url)\n",
    "    html = browser.html\n",
    "    soup = BeautifulSoup(html,'lxml')\n",
    "    href = soup.body.find('div',class_='downloads').find_all('a')[1]['href']\n",
    "    print(f\"image link: {href}\")\n",
    "    return href"
   ]
  },
  {
   "cell_type": "code",
   "execution_count": 54,
   "metadata": {},
   "outputs": [
    {
     "name": "stdout",
     "output_type": "stream",
     "text": [
      "image link: http://astropedia.astrogeology.usgs.gov/download/Mars/Viking/cerberus_enhanced.tif\n",
      "image link: http://astropedia.astrogeology.usgs.gov/download/Mars/Viking/schiaparelli_enhanced.tif\n",
      "image link: http://astropedia.astrogeology.usgs.gov/download/Mars/Viking/syrtis_major_enhanced.tif\n",
      "image link: http://astropedia.astrogeology.usgs.gov/download/Mars/Viking/valles_marineris_enhanced.tif\n"
     ]
    },
    {
     "data": {
      "text/plain": [
       "[{'title': 'Cerberus Hemisphere Enhanced',\n",
       "  'img_url': 'http://astropedia.astrogeology.usgs.gov/download/Mars/Viking/cerberus_enhanced.tif'},\n",
       " {'title': 'Schiaparelli Hemisphere Enhanced',\n",
       "  'img_url': 'http://astropedia.astrogeology.usgs.gov/download/Mars/Viking/schiaparelli_enhanced.tif'},\n",
       " {'title': 'Syrtis Major Hemisphere Enhanced',\n",
       "  'img_url': 'http://astropedia.astrogeology.usgs.gov/download/Mars/Viking/syrtis_major_enhanced.tif'},\n",
       " {'title': 'Valles Marineris Hemisphere Enhanced',\n",
       "  'img_url': 'http://astropedia.astrogeology.usgs.gov/download/Mars/Viking/valles_marineris_enhanced.tif'}]"
      ]
     },
     "execution_count": 54,
     "metadata": {},
     "output_type": "execute_result"
    }
   ],
   "source": [
    "# Loop thru the item links and extract download link\n",
    "hemis_image_urls = []\n",
    "\n",
    "for item in usgs_items:\n",
    "    hemis_dict = {}\n",
    "    # get the title\n",
    "    title = item.find('h3').text\n",
    "    hemis_dict['title'] = title\n",
    "    # get the image link within the item tab\n",
    "    href = item.find('a',class_='itemLink product-item')['href']\n",
    "    item_url = usgs_base_url + href\n",
    "    img_url = GetDownloadLink(item_url)\n",
    "    hemis_dict['img_url'] = img_url\n",
    "    # append dict into list\n",
    "    hemis_image_urls.append(hemis_dict)\n",
    "\n",
    "hemis_image_urls"
   ]
  }
 ],
 "metadata": {
  "kernelspec": {
   "display_name": "Python 3",
   "language": "python",
   "name": "python3"
  },
  "language_info": {
   "codemirror_mode": {
    "name": "ipython",
    "version": 3
   },
   "file_extension": ".py",
   "mimetype": "text/x-python",
   "name": "python",
   "nbconvert_exporter": "python",
   "pygments_lexer": "ipython3",
   "version": "3.6.5"
  }
 },
 "nbformat": 4,
 "nbformat_minor": 2
}
